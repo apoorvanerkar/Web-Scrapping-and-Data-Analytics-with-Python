{
 "cells": [
  {
   "cell_type": "markdown",
   "metadata": {},
   "source": [
    "# Question 1: Which county has the best walkable, transit and bikeable score? Based on this analysis select the best county and analyse the proportion of schools that fall under following categories:\n",
    "1. Walkable (Car dependent, somewhat walkable, very walkable), \n",
    "2. Bikeable(very bikeable, bikeable, somewhat bikeable) and \n",
    "3. Transit (Excellent transit, good transit)\""
   ]
  },
  {
   "cell_type": "code",
   "execution_count": 2,
   "metadata": {},
   "outputs": [],
   "source": [
    "# Read Redfin_New_Cleaned excel file into dataframe\n",
    "\n",
    "import pandas as pd\n",
    "\n",
    "new_listings = pd.read_excel(r\"C:\\Users\\apoor\\Desktop\\Data Analytics Course Material\\Project\\Collated Files\\Data Cleaned files\\Redfin_New_Cleaned.xlsx\")\n",
    "\n"
   ]
  },
  {
   "cell_type": "code",
   "execution_count": 3,
   "metadata": {},
   "outputs": [
    {
     "ename": "NameError",
     "evalue": "name 'plt' is not defined",
     "output_type": "error",
     "traceback": [
      "\u001b[1;31m---------------------------------------------------------------------------\u001b[0m",
      "\u001b[1;31mNameError\u001b[0m                                 Traceback (most recent call last)",
      "\u001b[1;32m<ipython-input-3-052046b87a80>\u001b[0m in \u001b[0;36m<module>\u001b[1;34m\u001b[0m\n\u001b[0;32m      5\u001b[0m \u001b[0mcountywise_score\u001b[0m \u001b[1;33m=\u001b[0m \u001b[0mcountywise_score\u001b[0m\u001b[1;33m.\u001b[0m\u001b[0msort_values\u001b[0m\u001b[1;33m(\u001b[0m\u001b[1;33m[\u001b[0m\u001b[1;34m'walkable Score'\u001b[0m\u001b[1;33m,\u001b[0m\u001b[1;34m'bikeable score'\u001b[0m\u001b[1;33m,\u001b[0m\u001b[1;34m'transit score'\u001b[0m\u001b[1;33m]\u001b[0m\u001b[1;33m,\u001b[0m \u001b[0mascending\u001b[0m \u001b[1;33m=\u001b[0m \u001b[1;32mFalse\u001b[0m\u001b[1;33m)\u001b[0m\u001b[1;33m\u001b[0m\u001b[1;33m\u001b[0m\u001b[0m\n\u001b[0;32m      6\u001b[0m \u001b[0mcountywise_score\u001b[0m\u001b[1;33m.\u001b[0m\u001b[0mplot\u001b[0m\u001b[1;33m(\u001b[0m\u001b[0mx\u001b[0m\u001b[1;33m=\u001b[0m\u001b[1;34m\"county\"\u001b[0m\u001b[1;33m,\u001b[0m \u001b[0my\u001b[0m\u001b[1;33m=\u001b[0m\u001b[1;33m[\u001b[0m\u001b[1;34m'walkable Score'\u001b[0m\u001b[1;33m,\u001b[0m \u001b[1;34m'bikeable score'\u001b[0m\u001b[1;33m,\u001b[0m \u001b[1;34m'transit score'\u001b[0m\u001b[1;33m]\u001b[0m\u001b[1;33m,\u001b[0m \u001b[0mkind\u001b[0m\u001b[1;33m=\u001b[0m\u001b[1;34m\"bar\"\u001b[0m\u001b[1;33m,\u001b[0m \u001b[0mfigsize\u001b[0m\u001b[1;33m=\u001b[0m\u001b[1;33m(\u001b[0m\u001b[1;36m15\u001b[0m\u001b[1;33m,\u001b[0m \u001b[1;36m7\u001b[0m\u001b[1;33m)\u001b[0m\u001b[1;33m,\u001b[0m \u001b[0mcolor\u001b[0m \u001b[1;33m=\u001b[0m \u001b[1;33m[\u001b[0m\u001b[1;34m'blue'\u001b[0m\u001b[1;33m,\u001b[0m \u001b[1;34m'green'\u001b[0m\u001b[1;33m,\u001b[0m \u001b[1;34m'#fdaa48'\u001b[0m\u001b[1;33m]\u001b[0m\u001b[1;33m)\u001b[0m\u001b[1;33m\u001b[0m\u001b[1;33m\u001b[0m\u001b[0m\n\u001b[1;32m----> 7\u001b[1;33m \u001b[0mplt\u001b[0m\u001b[1;33m.\u001b[0m\u001b[0mlegend\u001b[0m\u001b[1;33m(\u001b[0m\u001b[0mloc\u001b[0m \u001b[1;33m=\u001b[0m \u001b[1;34m'upper right'\u001b[0m\u001b[1;33m)\u001b[0m\u001b[1;33m\u001b[0m\u001b[1;33m\u001b[0m\u001b[0m\n\u001b[0m\u001b[0;32m      8\u001b[0m \u001b[0mplt\u001b[0m\u001b[1;33m.\u001b[0m\u001b[0mxlabel\u001b[0m\u001b[1;33m(\u001b[0m\u001b[1;34m\"County\"\u001b[0m\u001b[1;33m)\u001b[0m\u001b[1;33m\u001b[0m\u001b[1;33m\u001b[0m\u001b[0m\n\u001b[0;32m      9\u001b[0m \u001b[0mplt\u001b[0m\u001b[1;33m.\u001b[0m\u001b[0mylabel\u001b[0m\u001b[1;33m(\u001b[0m\u001b[1;34m\"Score\"\u001b[0m\u001b[1;33m)\u001b[0m\u001b[1;33m\u001b[0m\u001b[1;33m\u001b[0m\u001b[0m\n",
      "\u001b[1;31mNameError\u001b[0m: name 'plt' is not defined"
     ]
    }
   ],
   "source": [
    "# Mean of Countywise Walkable, Bikeable and Transit Score\n",
    "\n",
    "countywise_score = new_listings.groupby(['county'], as_index=False)['walkable Score', 'bikeable score', 'transit score'].mean()\n",
    "countywise_score.fillna(0)\n",
    "countywise_score = countywise_score.sort_values(['walkable Score','bikeable score','transit score'], ascending = False)\n",
    "countywise_score.plot(x=\"county\", y=['walkable Score', 'bikeable score', 'transit score'], kind=\"bar\", figsize=(15, 7), color = ['blue', 'green', '#fdaa48'])\n",
    "plt.legend(loc = 'upper right')\n",
    "plt.xlabel(\"County\")\n",
    "plt.ylabel(\"Score\") \n",
    "\n",
    "plt.show()"
   ]
  },
  {
   "cell_type": "code",
   "execution_count": null,
   "metadata": {},
   "outputs": [],
   "source": [
    "# 5 best counties with the highest walkable score\n",
    "\n",
    "import matplotlib\n",
    "import matplotlib.pyplot as plt\n",
    "\n",
    "\n",
    "w_score = countywise_score.nlargest(5, 'walkable Score')\n",
    "w_score.plot.bar(x='county', y='walkable Score', rot=45, figsize=(5, 3))\n",
    "plt.title('Best Walkable Score')\n",
    "plt.legend(loc = 'upper right')\n",
    "plt.xlabel(\"County\")\n",
    "plt.ylabel(\"Score\") \n",
    "\n",
    "\n",
    "# 5 best counties with the highest transit score\n",
    "\n",
    "t_score = countywise_score.nlargest(5, 'transit score')\n",
    "t_score.plot.bar(x='county', y='transit score', rot=45, figsize=(5, 3))\n",
    "plt.title('Best Transit Score')\n",
    "plt.legend(loc = 'upper right')\n",
    "plt.xlabel(\"County\")\n",
    "plt.ylabel(\"Score\") \n",
    "\n",
    "# 5 best counties with the highest bikeable score\n",
    "\n",
    "b_score = countywise_score.nlargest(5, 'bikeable score')\n",
    "b_score.plot.bar(x='county', y='bikeable score', rot=45, figsize=(5, 3))\n",
    "plt.title('Best Bikeable Score')\n",
    "plt.legend(loc = 'upper right')\n",
    "plt.xlabel(\"County\")\n",
    "plt.ylabel(\"Score\") \n",
    "\n",
    "plt.show()"
   ]
  },
  {
   "cell_type": "code",
   "execution_count": null,
   "metadata": {},
   "outputs": [],
   "source": [
    "# Based on the above analysis, San Francisco has the best walkable, transit and bikeable score\n",
    "# With respect to the best county selected according to the scores what percentage of schools fall under -\n",
    "# 1. Very walkable, Somewhat Walkable, Car-Dependent\n",
    "# 2. Excellent Transit, Good Transit, Minimal Transit\n",
    "# 3. Very Bikeable, Bikeable, Somewhat Bikeable\n",
    "\n",
    "county_SF = new_listings[new_listings.county == 'San Francisco']\n",
    "\n",
    "#Walkable\n",
    "walkable = county_SF.groupby(['walkable'], as_index=False)['# of schools'].sum()\n",
    "\n",
    "# Create a list of colors\n",
    "colors = [\"pink\",\"lightgreen\",\"lightblue\"]\n",
    "\n",
    "# Create a pie chart\n",
    "plt.pie(\n",
    "    # using data total)arrests\n",
    "    walkable['# of schools'],\n",
    "    # with the labels being officer names\n",
    "    labels=walkable['walkable'],\n",
    "    # with no shadows\n",
    "    shadow=False,\n",
    "    # with colors\n",
    "    colors=colors,\n",
    "    # with one slide exploded out\n",
    "    explode=(0,0,0.15),\n",
    "    # with the percent listed as a fraction\n",
    "    autopct='%1.f%%',\n",
    "    )\n",
    "\n",
    "# View the plot drop above\n",
    "plt.axis('equal')\n",
    "\n",
    "# View the plot\n",
    "plt.tight_layout()\n",
    "plt.title('Distribution of Schools with Walkable Disctance')\n",
    "plt.show()\n",
    "\n",
    "\n",
    "\n",
    "# bikeable\n",
    "bikeable = county_SF.groupby(['bikeable'], as_index=False)['# of schools'].sum()\n",
    "\n",
    "# Create a pie chart\n",
    "plt.pie(\n",
    "    # using data total)arrests\n",
    "    bikeable['# of schools'],\n",
    "    # with the labels being officer names\n",
    "    labels=bikeable['bikeable'],\n",
    "    # with no shadows\n",
    "    shadow=False,\n",
    "    # with colors\n",
    "    colors=colors,\n",
    "    # with one slide exploded out\n",
    "    explode=(0,0,0.07),\n",
    "    # with the percent listed as a fraction\n",
    "    autopct='%1.f%%',\n",
    "    )\n",
    "\n",
    "# View the plot drop above\n",
    "plt.axis('equal')\n",
    "\n",
    "# View the plot\n",
    "plt.tight_layout()\n",
    "plt.title('Distribution of Schools with Bikeable Distance')\n",
    "plt.show()\n",
    "\n",
    "\n",
    "\n",
    "# Transit\n",
    "transit = county_SF.groupby(['transit'], as_index=False)['# of schools'].sum()\n",
    "colors = [\"lightblue\",\"pink\"]\n",
    "# Create a pie chart\n",
    "plt.pie(\n",
    "    # using data total)arrests\n",
    "    transit['# of schools'],\n",
    "    # with the labels being officer names\n",
    "    labels=transit['transit'],\n",
    "    # with no shadows\n",
    "    shadow=False,\n",
    "    # with colors\n",
    "    colors=colors,\n",
    "    # with one slide exploded out\n",
    "    explode=(0,0.07),\n",
    "    # with the percent listed as a fraction\n",
    "    autopct='%1.f%%',\n",
    "    )\n",
    "\n",
    "# View the plot drop above\n",
    "plt.axis('equal')\n",
    "\n",
    "# View the plot\n",
    "plt.tight_layout()\n",
    "plt.title('Distribution of Schools with Excellent/Good Transit')\n",
    "plt.show()\n",
    "\n"
   ]
  },
  {
   "cell_type": "markdown",
   "metadata": {},
   "source": [
    "# Question 2: Analyze most expensive and least expensive localities for single family homes based on new listings on Redfin."
   ]
  },
  {
   "cell_type": "code",
   "execution_count": null,
   "metadata": {
    "scrolled": true
   },
   "outputs": [],
   "source": [
    "import ipywidgets as widgets\n",
    "from IPython.display import display\n",
    "\n",
    "radio_county= widgets.Dropdown(\n",
    "    options=uq_counties,\n",
    "    value='Alameda', # # Defaults to 'Alameda'\n",
    "    description='Counties:',\n",
    "    disabled=False,\n",
    ")\n",
    "display(radio_county)"
   ]
  },
  {
   "cell_type": "code",
   "execution_count": null,
   "metadata": {},
   "outputs": [],
   "source": [
    "# Filter data frame according to county selection and house type as Single Family \n",
    "Radio_county_selected = radio_county.value\n",
    "new_listings_ByCounty_Type = new_listings[(new_listings['county']==(Radio_county_selected)) & (new_listings['type']=='Single Family')]\n",
    "\n",
    "# Mean of locality wise single family home prices\n",
    "localitywise_avg_price = new_listings_ByCounty_Type.groupby(['locality'], as_index=False)['price'].mean()\n",
    "localitywise_avg_price.fillna(0)"
   ]
  },
  {
   "cell_type": "code",
   "execution_count": null,
   "metadata": {},
   "outputs": [],
   "source": [
    "# Plot localities with an average of 10 highest priced and 10 lowest priced single family homes\n",
    "\n",
    "price_high = localitywise_avg_price.nlargest(5, 'price')\n",
    "price_high.plot.bar(x='locality', y='price', rot=45, figsize=(7, 3))\n",
    "plt.title('Localities with highest priced Single Family homes')\n",
    "plt.legend(loc = 'upper right')\n",
    "plt.xlabel(\"Locality\")\n",
    "plt.ylabel(\"Price\")\n",
    "\n",
    "price_low = localitywise_avg_price.nsmallest(5, 'price')\n",
    "price_low.plot.bar(x='locality', y='price', rot=45, figsize=(7, 3))\n",
    "plt.title('Localities with lowest priced Single Family homes')\n",
    "plt.legend(loc = 'upper left')\n",
    "plt.xlabel(\"Locality\")\n",
    "plt.ylabel(\"Price\")\n",
    "\n",
    "plt.show()"
   ]
  },
  {
   "cell_type": "markdown",
   "metadata": {},
   "source": [
    "# Question3: Analyze the relationship between Price and Area of the houses sold based on number of beds."
   ]
  },
  {
   "cell_type": "code",
   "execution_count": 5,
   "metadata": {},
   "outputs": [],
   "source": [
    "## Read Redfin_Sold_Cleaned Excel file into dataframe\n",
    "sold_property = pd.read_excel(r\"C:\\Users\\apoor\\Desktop\\Data Analytics Course Material\\Project\\Collated Files\\Data Cleaned files\\Redfin_Sold_Cleaned_v2.xlsx\")\n",
    "sold_property = sold_property[sold_property['county'].notna()]"
   ]
  },
  {
   "cell_type": "code",
   "execution_count": 6,
   "metadata": {},
   "outputs": [],
   "source": [
    "#get all unique counties\n",
    "uq_counties = list(sold_property.county.unique())"
   ]
  },
  {
   "cell_type": "code",
   "execution_count": 7,
   "metadata": {
    "scrolled": true
   },
   "outputs": [
    {
     "data": {
      "application/vnd.jupyter.widget-view+json": {
       "model_id": "3f8426e00da34b62bde2c235fe49d2e1",
       "version_major": 2,
       "version_minor": 0
      },
      "text/plain": [
       "interactive(children=(Dropdown(description='Counties:', index=20, options=('Fresno', 'Glenn', 'Kern', 'Lake', …"
      ]
     },
     "metadata": {},
     "output_type": "display_data"
    }
   ],
   "source": [
    "from ipywidgets import widgets, interactive, interact\n",
    "from IPython.display import display\n",
    "import matplotlib.pyplot as plt\n",
    "\n",
    "counties_W = widgets.Dropdown(\n",
    "    options=uq_counties,\n",
    "    value='Alameda',\n",
    "    description='Counties:',\n",
    "    disabled=False,\n",
    ")\n",
    "\n",
    "localities_W = widgets.Dropdown(\n",
    "    description='Localities:',\n",
    "    disabled=False,\n",
    ")\n",
    "\n",
    "beds_W = widgets.SelectMultiple(\n",
    "    description='Beds:',\n",
    "    disabled=False\n",
    ")\n",
    "\n",
    "\n",
    "\n",
    "@interact(counties = counties_W, localities = localities_W, beds = beds_W)\n",
    "def main_fun(counties, localities, beds):\n",
    "    df_locality = sold_property[sold_property['county'] == counties]\n",
    "    df_locality = df_locality[df_locality['locality'].notna()]\n",
    "    localities_W.options = list(df_locality.locality.unique())  \n",
    "    df_beds = sold_property[sold_property['locality'] == localities]\n",
    "    df_beds = df_beds[df_beds['beds'].notna()]\n",
    "    beds_W.options = list(df_beds.beds.unique())\n",
    "    \n",
    "    if counties and localities and beds:\n",
    "        df_all = sold_property[(sold_property['county'] == counties) & (sold_property['locality'] == localities)]\n",
    "        i = 0\n",
    "        while i < len(beds):\n",
    "            v_bed = beds[i]\n",
    "            df_area = df_all\n",
    "            df_area = df_all[sold_property['beds'] == v_bed]\n",
    "            df_area_lst = sorted(df_area[\"area\"].tolist())    \n",
    "            df_sell_price_lst = sorted(df_area['sold_price_list'].tolist())\n",
    "            dct = dict()\n",
    "            dct['Area'] = df_area_lst\n",
    "            dct['Price'] = df_sell_price_lst           \n",
    "            df_plt = pd.DataFrame(data = dct)\n",
    "            plt.plot('Area', 'Price', data = df_plt)\n",
    "            plt.legend(loc = 'upper left')\n",
    "            plt.xlabel(\"Area\")\n",
    "            plt.ylabel(\"Price\") \n",
    "            i = i + 1 \n",
    "\n",
    "    \n",
    "    \n",
    "    "
   ]
  }
 ],
 "metadata": {
  "kernelspec": {
   "display_name": "Python 3",
   "language": "python",
   "name": "python3"
  },
  "language_info": {
   "codemirror_mode": {
    "name": "ipython",
    "version": 3
   },
   "file_extension": ".py",
   "mimetype": "text/x-python",
   "name": "python",
   "nbconvert_exporter": "python",
   "pygments_lexer": "ipython3",
   "version": "3.7.3"
  }
 },
 "nbformat": 4,
 "nbformat_minor": 2
}
